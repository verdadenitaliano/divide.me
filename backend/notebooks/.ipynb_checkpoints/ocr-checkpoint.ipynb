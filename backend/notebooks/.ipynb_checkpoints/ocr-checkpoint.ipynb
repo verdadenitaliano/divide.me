{
 "cells": [
  {
   "cell_type": "code",
   "execution_count": 4,
   "id": "04a9e2e6-c0a9-4918-ba67-d8000a532af1",
   "metadata": {},
   "outputs": [],
   "source": [
    "import json\n",
    "import pickle\n",
    "import requests \n"
   ]
  },
  {
   "cell_type": "code",
   "execution_count": null,
   "id": "667c2f7d-297a-42d3-a7c7-2162ea98da30",
   "metadata": {},
   "outputs": [],
   "source": [
    "url = \"https://ocr.asprise.com/api/v1/receipt\"\n",
    "image2 = \"costco_test.jpg\"\n",
    "\n",
    "res = requests.post(url,\n",
    "                   data = {'api_key':'TEST',\n",
    "                          'recognizer': 'auto',\n",
    "                          'ref_no': 'oct_python_123'\n",
    "                          },\n",
    "                    files = {\n",
    "                        'file' : open(image2,'rb')\n",
    "                    })"
   ]
  },
  {
   "cell_type": "code",
   "execution_count": null,
   "id": "afd9ec4a-fb72-47da-b7a2-3f1bf06c1fb6",
   "metadata": {},
   "outputs": [],
   "source": [
    "with open (\"response2.json\",\"w\") as f:\n",
    "    json.dump(json.loads(res.text),f)"
   ]
  },
  {
   "cell_type": "code",
   "execution_count": 50,
   "id": "df914178-60c2-4275-a137-cbce338e8824",
   "metadata": {},
   "outputs": [
    {
     "name": "stdout",
     "output_type": "stream",
     "text": [
      "dict_keys(['merchant_name', 'merchant_address', 'merchant_phone', 'merchant_website', 'merchant_tax_reg_no', 'merchant_company_reg_no', 'region', 'mall', 'country', 'receipt_no', 'date', 'time', 'items', 'currency', 'total', 'subtotal', 'tax', 'service_charge', 'tip', 'payment_method', 'payment_details', 'credit_card_type', 'credit_card_number', 'ocr_text', 'ocr_confidence', 'width', 'height', 'avg_char_width', 'avg_line_height', 'conf_amount', 'source_locations'])\n",
      "Your purchase at COSTCO\n",
      "1525715 PUMA PANTALO) - $22.99\n",
      "315011 JEAN U.STAR) - $18.99\n",
      "1671351 GAP LS) - $22.99\n",
      "1671351 GAP LS) - $22.99\n",
      "1756431 COUVERTURE) - $29.99\n",
      "8301001 PRSCO JEAN 8) - $25.99\n",
      "2022117 LV: ULTIMES) - $19.99\n",
      "1466714 SAVON OLAY) - $16.99\n",
      "1493488 KS LINGETTES) - $24.99\n",
      "SOUS-TOTAL) - $205.91\n",
      "------------------------------\n",
      "Subtotal: None\n",
      "Taxes: 30.84\n",
      "------------------------------\n",
      "Total: 236.75\n"
     ]
    }
   ],
   "source": [
    "with open (\"response1.json\",\"r\") as f:\n",
    "    data = json.load(f)\n",
    "print(data['receipts'][0].keys())\n",
    "\n",
    "items = data['receipts'][0]['items']\n",
    "print(f\"Your purchase at {data['receipts'][0]['merchant_name']}\")\n",
    "\n",
    "for item in items:\n",
    "    print(f\"{item['description']}) - ${item['amount']}\")\n",
    "\n",
    "print(\"-\"*30)\n",
    "print(f\"Subtotal: {data['receipts'][0]['subtotal']}\")\n",
    "print(f\"Taxes: {data['receipts'][0]['tax']}\")\n",
    "print(\"-\"*30)\n",
    "print(f\"Total: {data['receipts'][0]['total']}\")\n"
   ]
  }
 ],
 "metadata": {
  "kernelspec": {
   "display_name": "Python 3 (ipykernel)",
   "language": "python",
   "name": "python3"
  },
  "language_info": {
   "codemirror_mode": {
    "name": "ipython",
    "version": 3
   },
   "file_extension": ".py",
   "mimetype": "text/x-python",
   "name": "python",
   "nbconvert_exporter": "python",
   "pygments_lexer": "ipython3",
   "version": "3.11.5"
  }
 },
 "nbformat": 4,
 "nbformat_minor": 5
}
