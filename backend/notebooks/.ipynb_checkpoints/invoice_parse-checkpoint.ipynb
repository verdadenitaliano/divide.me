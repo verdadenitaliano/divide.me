{
 "cells": [
  {
   "cell_type": "code",
   "execution_count": 2,
   "id": "f03eae22",
   "metadata": {},
   "outputs": [],
   "source": [
    "from pdf2image import convert_from_path\n"
   ]
  },
  {
   "cell_type": "code",
   "execution_count": 126,
   "id": "0a036c8f-2cd9-423a-820c-3140a20014a8",
   "metadata": {},
   "outputs": [],
   "source": [
    "pages = convert_from_path(r'invoices\\costco_test.pdf', poppler_path=r'C:\\poppler-23.08.0\\Library\\bin')"
   ]
  },
  {
   "cell_type": "code",
   "execution_count": 127,
   "id": "b3296983-9629-4f6e-bab7-355f7b21310e",
   "metadata": {},
   "outputs": [],
   "source": [
    "pages[0].show()"
   ]
  },
  {
   "cell_type": "code",
   "execution_count": 46,
   "id": "8c6fd8dc-f63d-409f-9758-a8421fbe3f3a",
   "metadata": {},
   "outputs": [],
   "source": [
    "import pytesseract"
   ]
  },
  {
   "cell_type": "code",
   "execution_count": 112,
   "id": "8e1eaca7-7586-483d-8616-86daba1d915e",
   "metadata": {},
   "outputs": [
    {
     "name": "stdout",
     "output_type": "stream",
     "text": [
      "[<PIL.PpmImagePlugin.PpmImageFile image mode=RGB size=1700x2200 at 0x256C66CC6D0>]\n"
     ]
    }
   ],
   "source": [
    "pytesseract.pytesseract.tesseract_cmd=r'C:\\Program Files\\Tesseract-OCR\\tesseract.exe'\n",
    "text = pytesseract.image_to_string(pages[0], lang='eng')\n",
    "print(pages)"
   ]
  },
  {
   "cell_type": "code",
   "execution_count": 130,
   "id": "6e2c8d12-8fd1-4b1c-aa7d-042b41696d90",
   "metadata": {
    "scrolled": true
   },
   "outputs": [],
   "source": [
    "import numpy as np\n",
    "import cv2\n",
    "from PIL import Image\n",
    "\n",
    "def preprocess_image(img):\n",
    "    img_gray = cv2.cvtColor(np.array(img), cv2.COLOR_BGR2GRAY)\n",
    "    resize_img = cv2.resize(img_gray, None, fx=1.5, fy=1.5, interpolation = cv2.INTER_LINEAR)\n",
    "    processed_img = cv2.adaptiveThreshold(\n",
    "        resize_img, \n",
    "        255,\n",
    "        cv2.ADAPTIVE_THRESH_GAUSSIAN_C,\n",
    "        cv2.THRESH_BINARY,\n",
    "        80,\n",
    "        11\n",
    "    )\n",
    "    return processed_img\n",
    "    "
   ]
  },
  {
   "cell_type": "code",
   "execution_count": 132,
   "id": "7cc578f3-b14f-47ee-a033-e437234aa139",
   "metadata": {},
   "outputs": [],
   "source": [
    "final_img = preprocess_image(pages[0])\n",
    "Image.fromarray(final_img).show()"
   ]
  },
  {
   "cell_type": "code",
   "execution_count": 131,
   "id": "a7308662-4d8b-4350-9bb2-58caba9803d9",
   "metadata": {},
   "outputs": [
    {
     "name": "stdout",
     "output_type": "stream",
     "text": [
      "Trois-Rivieres #518\n",
      "3000 Boul des Récollets\n",
      "Trois-Riviéres-Quest, QC GIA 6J2\n",
      "\n",
      "DD Membre 111920094965\n",
      "1525715 PUMA PANTALO 22,99 FP\n",
      "315011 JEAN U.STAR 18,99 FP\n",
      "1671351 GAP LS 22,99 FP\n",
      "1671351 GAP LS 22,99 FP\n",
      "1756431 COUVERTURE 29,99 FP\n",
      "8301001 PRSCO JEAN/ 8 25,99 FP\n",
      "2022117 LV:ULTIME 19,99 FP\n",
      "1466714 SAVON OLA 16,99 FP\n",
      "\n",
      "{eeeGGHOEE Bas du Pantie IHUBNNNERHHE\n",
      "1493488 KS LINGEJTES 24,99 FP\n",
      "\n",
      "“ou Compte bas du panier | Mann\n",
      "\n",
      "exe\" 91\n",
      "TOTA 70.84\n",
      "elie 050, () |\n",
      "XXXXXXXXKKKXBOSE OP\n",
      "\n",
      "COMPTE: INTERAC CHEQUE\n",
      "# REFERENCE: 0010014980 c\n",
      "# AUTOR S60CEO 2023/09/16 17:06:41\n",
      "No. De Facture: 009498\n",
      "\n",
      "Achat - Interac\n",
      "A0000002771010\n",
      "0080008000 EC0O\n",
      "\n",
      "00 APPROUVé - MERCI 001\n",
      "MONTANT: $236,75'\n",
      "\n",
      "IMPORTANT ~- conserver cette cople\n",
      "pour vos dossiers\n",
      "COPIE DU CLIENT\n",
      "Interac 236,75\n",
      "MONNATE 0,00\n",
      "\n",
      "P T.V.@. 9.975% 20,54\n",
      "F T.P.S. 5% 10,30\n",
      "NOMBRE D'ARTICLES VENDUS= 9\n",
      "\n",
      "uyxVavYale 17:06:44 518 9 269 118\n",
      "\n",
      "ae\n",
      "\n",
      "#0pér: 118 Caissier(ére): Cynthia-Kimb\n",
      "\n",
      "Merci et & bientét\n",
      "\n",
      "F=TPS P=TVQ@ FP=LES DEUX\n",
      "#TPS 121476329RT #TVQ 1018199561TR0001\n",
      "Entri518 Trm:9 Transi269 OP:118\n",
      "\n",
      "total bas du panier=1\n",
      "Corer plus d'information sur les\n",
      "écofrais, consulter\n",
      "www. costco.ca/ecofrals.htal\n",
      "\n",
      "Nombre d'art. 9\n",
      "\n"
     ]
    }
   ],
   "source": [
    "pytesseract.pytesseract.tesseract_cmd=r'C:\\Program Files\\Tesseract-OCR\\tesseract.exe'\n",
    "text = pytesseract.image_to_string(final_img, lang='eng')\n",
    "print(text)"
   ]
  }
 ],
 "metadata": {
  "kernelspec": {
   "display_name": "Python 3 (ipykernel)",
   "language": "python",
   "name": "python3"
  },
  "language_info": {
   "codemirror_mode": {
    "name": "ipython",
    "version": 3
   },
   "file_extension": ".py",
   "mimetype": "text/x-python",
   "name": "python",
   "nbconvert_exporter": "python",
   "pygments_lexer": "ipython3",
   "version": "3.11.5"
  }
 },
 "nbformat": 4,
 "nbformat_minor": 5
}
