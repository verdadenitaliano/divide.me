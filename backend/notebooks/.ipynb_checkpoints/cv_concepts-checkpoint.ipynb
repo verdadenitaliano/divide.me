{
 "cells": [
  {
   "cell_type": "code",
   "execution_count": 2,
   "id": "c7da76bf-5ff9-4752-91eb-928a0f162e5a",
   "metadata": {},
   "outputs": [],
   "source": [
    "import cv2\n",
    "from PIL import Image"
   ]
  },
  {
   "cell_type": "code",
   "execution_count": 29,
   "id": "bd47e0a0-1d90-4272-9d4f-890e08f1e453",
   "metadata": {},
   "outputs": [
    {
     "data": {
      "text/plain": [
       "array([[188, 186, 184, ...,  93,  94,  91],\n",
       "       [184, 186, 187, ...,  81,  80,  78],\n",
       "       [182, 185, 187, ...,  63,  65,  66],\n",
       "       ...,\n",
       "       [ 72,  71,  71, ...,  60,  88, 106],\n",
       "       [ 69,  69,  70, ...,  55,  83, 104],\n",
       "       [ 64,  63,  66, ...,  52,  79, 101]], dtype=uint8)"
      ]
     },
     "execution_count": 29,
     "metadata": {},
     "output_type": "execute_result"
    }
   ],
   "source": [
    "img=cv2.imread(\"costco_test.jpg\",flags = cv2.IMREAD_GRAYSCALE)\n",
    "img"
   ]
  },
  {
   "cell_type": "code",
   "execution_count": 30,
   "id": "f17728a4-c4bf-4ad7-88be-8b34eb65c4d7",
   "metadata": {},
   "outputs": [],
   "source": [
    "_, new_img = cv2.threshold(img,150,255,cv2.THRESH_BINARY)\n",
    "Image.fromarray(new_img).show()"
   ]
  },
  {
   "cell_type": "code",
   "execution_count": 31,
   "id": "82553dd1-62c0-4a1e-b6eb-49b04fcd27e5",
   "metadata": {},
   "outputs": [],
   "source": [
    "new_image = cv2.adaptiveThreshold(\n",
    "    img, 255,\n",
    "    cv2.ADAPTIVE_THRESH_GAUSSIAN_C,\n",
    "    cv2.THRESH_BINARY,\n",
    "    61,\n",
    "    11\n",
    ")\n",
    "Image.fromarray(new_image).show()"
   ]
  }
 ],
 "metadata": {
  "kernelspec": {
   "display_name": "Python 3 (ipykernel)",
   "language": "python",
   "name": "python3"
  },
  "language_info": {
   "codemirror_mode": {
    "name": "ipython",
    "version": 3
   },
   "file_extension": ".py",
   "mimetype": "text/x-python",
   "name": "python",
   "nbconvert_exporter": "python",
   "pygments_lexer": "ipython3",
   "version": "3.11.5"
  }
 },
 "nbformat": 4,
 "nbformat_minor": 5
}
