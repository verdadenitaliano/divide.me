{
 "cells": [
  {
   "cell_type": "code",
   "execution_count": 2,
   "id": "f03eae22",
   "metadata": {},
   "outputs": [],
   "source": [
    "from pdf2image import convert_from_path\n",
    "import json"
   ]
  },
  {
   "cell_type": "code",
   "execution_count": 3,
   "id": "0a036c8f-2cd9-423a-820c-3140a20014a8",
   "metadata": {},
   "outputs": [],
   "source": [
    "pages = convert_from_path(r'..\\resources\\fu2.pdf', poppler_path=r'C:\\poppler-23.08.0\\Library\\bin')"
   ]
  },
  {
   "cell_type": "code",
   "execution_count": 4,
   "id": "b3296983-9629-4f6e-bab7-355f7b21310e",
   "metadata": {},
   "outputs": [],
   "source": [
    "pages[0].show()"
   ]
  },
  {
   "cell_type": "code",
   "execution_count": 5,
   "id": "8c6fd8dc-f63d-409f-9758-a8421fbe3f3a",
   "metadata": {},
   "outputs": [],
   "source": [
    "import pytesseract"
   ]
  },
  {
   "cell_type": "code",
   "execution_count": 6,
   "id": "8e1eaca7-7586-483d-8616-86daba1d915e",
   "metadata": {},
   "outputs": [
    {
     "name": "stdout",
     "output_type": "stream",
     "text": [
      "[<PIL.PpmImagePlugin.PpmImageFile image mode=RGB size=1653x2339 at 0x252D0378890>]\n"
     ]
    }
   ],
   "source": [
    "pytesseract.pytesseract.tesseract_cmd=r'C:\\Program Files\\Tesseract-OCR\\tesseract.exe'\n",
    "text = pytesseract.image_to_string(pages[0], lang='eng')\n",
    "print(pages)"
   ]
  },
  {
   "cell_type": "code",
   "execution_count": 7,
   "id": "6e2c8d12-8fd1-4b1c-aa7d-042b41696d90",
   "metadata": {
    "scrolled": true
   },
   "outputs": [],
   "source": [
    "import numpy as np\n",
    "import cv2\n",
    "from PIL import Image\n",
    "\n",
    "def preprocess_image(img):\n",
    "    img_gray = cv2.cvtColor(np.array(img), cv2.COLOR_BGR2GRAY)\n",
    "    resize_img = cv2.resize(img_gray, None, fx=1.5, fy=1.5, interpolation = cv2.INTER_LINEAR)\n",
    "    processed_img = cv2.adaptiveThreshold(\n",
    "        resize_img, \n",
    "        255,\n",
    "        cv2.ADAPTIVE_THRESH_GAUSSIAN_C,\n",
    "        cv2.THRESH_BINARY,\n",
    "        61,\n",
    "        11\n",
    "    )\n",
    "    return processed_img\n",
    "    "
   ]
  },
  {
   "cell_type": "code",
   "execution_count": 8,
   "id": "7cc578f3-b14f-47ee-a033-e437234aa139",
   "metadata": {},
   "outputs": [],
   "source": [
    "final_img = preprocess_image(pages[0])\n",
    "Image.fromarray(final_img).show()"
   ]
  },
  {
   "cell_type": "code",
   "execution_count": 9,
   "id": "a7308662-4d8b-4350-9bb2-58caba9803d9",
   "metadata": {},
   "outputs": [
    {
     "name": "stdout",
     "output_type": "stream",
     "text": [
      "\\\n",
      "re '\n",
      "\n",
      "ante Rea\n",
      "Peecea ula!\n",
      "\n",
      "b)\n",
      "\n",
      "Uae MARCHE FU TAI\n",
      "SRR SAEMMA LGTY -PES-NCIGES UNIT 200\n",
      "ee aneieettet on CAINTREAL HGS 282\n",
      "\n",
      "ah\n",
      "an IELW: SMTSeTINON\n",
      "\n",
      "th ies\n",
      "/13/2023 3:42:20 PM CASHIER | a Ey 3\n",
      "CANDAESA .YUZA\n",
      "\n",
      "CASSAVE FRAIS CONGELE $11.99\n",
      "\n",
      "sony\n",
      "\n",
      "CORTANDRE $1.99\n",
      "\n",
      "CRIQUA YOULOW POTATO\n",
      "\n",
      "SH\n",
      "\n",
      "MELANGE 3 LEGUMES\n",
      "\n",
      "Viande FSB\n",
      "\n",
      "Viarde FF,\n",
      "\n",
      "TOTAL\n",
      "Debit card\n",
      "Iten count: 6\n",
      "\n",
      "13/2023 3:42:20 PM CASHIER 1\n",
      "Tra1s:760650 Terminal :050001002-001002\n",
      "\n",
      "MARCHE FU TAI\n",
      "\n",
      "ne,\n",
      "\n",
      "Fey\n",
      "670) DE LA COTE-DES-NEIGE sin\n",
      "ac\n",
      "\n",
      "} MONTREAL\n",
      "\n",
      "yh x {Pe ACHAT\n",
      "\n",
      "are ssa Gonate INTERAC per\n",
      "Tota C DEFAUT\n",
      "\n",
      "Abate\n",
      "We y { RPT Pe\n",
      "edeaspi gM AE Mo Pay WHERO CARTE easereereeeeJ03T Bee ti te SEY OSG ce DE Ra\n",
      "Ae it ple IS:A2:45 fe Nae tang ate te ie age\n",
      "Fe aye SoM ret 001-001-605 -0 Fei rs Md PRD she i SPD cS tet yib\n",
      "a. WOE AppR. H84107293-0 55(530 PRA SEURaaY Sy at kt es, ENCES\n",
      "Initar ae\n",
      "ACQI000277 |\n",
      "8582008009\n",
      "00 APPROUVEE - MERCI 001\n",
      "fan ain\n",
      "es. ¥ ahi te ects tho\n",
      "Hy 3 Uae COPIE CLIENT ‘ is ,\n",
      "“\n",
      "\n",
      "es j as i] Travs:760650 Terminal :050001602-001002\n",
      "{ fs, of a Sake\n",
      "ee a he ie Aucun R2mooursement et Seuler\n",
      "has hay vena Cha1g2z Dang 24 Heures\n",
      "ae ee\n",
      "? AHS His, yx fei\n",
      "TT Oa LW er :\n",
      "CURSE Ghat\n",
      "vi 1 Ee pa,\n",
      "al : Sot Le 1? 4 f\n",
      "nt\n",
      "\n",
      "Merci De Nouveau\n",
      "\n",
      "ia:\n",
      "be\n",
      "=> t\n",
      "\n",
      "Paget gS\n",
      "\n",
      "or\n",
      "tt et\n",
      "Saat he\n",
      "\n",
      "“ea erwesas\n",
      "caved\n",
      "\n",
      "\n"
     ]
    }
   ],
   "source": [
    "pytesseract.pytesseract.tesseract_cmd=r'C:\\Program Files\\Tesseract-OCR\\tesseract.exe'\n",
    "text = pytesseract.image_to_string(final_img, lang='eng')\n",
    "print(text)\n"
   ]
  },
  {
   "cell_type": "code",
   "execution_count": 10,
   "id": "ed99b64f-f63f-4109-b04e-f2764a944e7b",
   "metadata": {},
   "outputs": [
    {
     "data": {
      "text/plain": [
       "[('\\n\\nCASSAVE FRAIS CONGELE ', 'CONGELE ', ''),\n",
       " ('\\n\\nsony\\n\\nCORTANDRE ', 'CORTANDRE ', '')]"
      ]
     },
     "execution_count": 10,
     "metadata": {},
     "output_type": "execute_result"
    }
   ],
   "source": [
    "import numpy as np\n",
    "import cv2\n",
    "import matplotlib.pyplot as plt\n",
    "import pytesseract\n",
    "import re\n",
    "\n",
    "from pytesseract import Output\n",
    "\n",
    "pattern = \"(\\s+([A-Za-z0-9]+\\s+)+)\\$([+-])?\"\n",
    "items = re.findall(pattern,text)\n",
    "items\n"
   ]
  },
  {
   "cell_type": "code",
   "execution_count": 12,
   "id": "e0c7e1b0-70ae-4242-89e0-b010487e2c6d",
   "metadata": {},
   "outputs": [
    {
     "data": {
      "text/plain": [
       "['11.99', '1.99']"
      ]
     },
     "execution_count": 12,
     "metadata": {},
     "output_type": "execute_result"
    }
   ],
   "source": [
    "pattern_amount = \"([0-9]+\\.[0-9]+)\"\n",
    "item_amount = re.findall(pattern_amount,text)\n",
    "item_amount"
   ]
  }
 ],
 "metadata": {
  "kernelspec": {
   "display_name": "Python 3 (ipykernel)",
   "language": "python",
   "name": "python3"
  },
  "language_info": {
   "codemirror_mode": {
    "name": "ipython",
    "version": 3
   },
   "file_extension": ".py",
   "mimetype": "text/x-python",
   "name": "python",
   "nbconvert_exporter": "python",
   "pygments_lexer": "ipython3",
   "version": "3.11.5"
  }
 },
 "nbformat": 4,
 "nbformat_minor": 5
}
